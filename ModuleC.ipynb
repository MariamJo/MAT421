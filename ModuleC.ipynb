{
  "nbformat": 4,
  "nbformat_minor": 0,
  "metadata": {
    "colab": {
      "name": "ModuleC.ipynb",
      "provenance": []
    },
    "kernelspec": {
      "name": "python3",
      "display_name": "Python 3"
    },
    "language_info": {
      "name": "python"
    }
  },
  "cells": [
    {
      "cell_type": "markdown",
      "source": [
        "**19.1 Root Finding Problem Statement**"
      ],
      "metadata": {
        "id": "20nmSGd0NpQN"
      }
    },
    {
      "cell_type": "code",
      "execution_count": 1,
      "metadata": {
        "colab": {
          "base_uri": "https://localhost:8080/"
        },
        "id": "-0GUna8k7xT-",
        "outputId": "e0090d46-4a93-4c1c-eae8-6032b80a2d9e"
      },
      "outputs": [
        {
          "output_type": "stream",
          "name": "stdout",
          "text": [
            "The root = [0.87672622]\n",
            "Verfication f(r) =  [0.] \n",
            "\n",
            "The root = [-6.3981792e+34]\n",
            "Verfication f(r)= [-3.81795496e-105]\n",
            "The number of calls to function has reached maxfev = 400.\n"
          ]
        }
      ],
      "source": [
        "#Instead of the cosine function provided in the textbook, this tests the program using sine. \n",
        "\n",
        "#Import packages\n",
        "import numpy as np\n",
        "from scipy import optimize\n",
        "\n",
        "#Lambda function for root of sine\n",
        "f = lambda x: np.sin(x) - x**2\n",
        "r = optimize.fsolve(f, 1)\n",
        "print(\"The root =\", r)\n",
        "\n",
        "# Makes sure the value from above produces a zero value\n",
        "result = f(r)\n",
        "print(\"Verfication f(r) = \", result, '\\n')\n",
        "\n",
        "\n",
        "#Again, similar to the textbook; however, it utilizes 1/x^3 function to see if the optimization functions properly.\n",
        "f = lambda x: 1/x**3\n",
        "\n",
        "r, infodict, ier, mesg = optimize.fsolve(f, -2, full_output=True)\n",
        "print(\"The root =\", r)\n",
        "\n",
        "#Makes sure the value from above produces a zero value\n",
        "result = f(r)\n",
        "print(\"Verfication f(r)=\", result)\n",
        "\n",
        "print(mesg) #This is because the function I gave should not have a real root so it will produce this method"
      ]
    },
    {
      "cell_type": "markdown",
      "source": [
        "**19.2 Tolerance and 19.3 Bisection Method**"
      ],
      "metadata": {
        "id": "JDo99b_zOUHO"
      }
    },
    {
      "cell_type": "code",
      "source": [
        "#This utilizes the my_bisection program in order to demonstrate the utilization of tolerance form 9.2 as well as root solving usng the program\n",
        "#for alternative functions\n",
        "\n",
        "#import packages\n",
        "import numpy as np\n",
        "\n",
        "#Given my_bisection definition\n",
        "def my_bisection(f, a, b, tol): \n",
        "\n",
        "    if np.sign(f(a)) == np.sign(f(b)):\n",
        "        raise Exception(\n",
        "         \"The scalars a and b do not bound a root\")\n",
        "        \n",
        "    #midpoint for finding roots\n",
        "    m = (a + b)/2\n",
        "    \n",
        "    #demonstrates the use of a tolerance\n",
        "    if np.abs(f(m)) < tol:\n",
        "        return m\n",
        "    elif np.sign(f(a)) == np.sign(f(m)):\n",
        "        return my_bisection(f, m, b, tol)\n",
        "    elif np.sign(f(b)) == np.sign(f(m)):\n",
        "        return my_bisection(f, a, m, tol)\n",
        "\n",
        "#lambda function to make sure I understand how the code runs utilizing different functions\n",
        "f = lambda x: x**4 - 7\n",
        "\n",
        "r1 = my_bisection(f, -2, -1, 0.1) #Needed proper starting poits for each root\n",
        "print(\"r1 =\", r1)\n",
        "r2 = my_bisection(f, 2, 1, 0.01)\n",
        "print(\"r2 =\", r2)\n",
        "\n",
        "print(\"f(r1) =\", f(r1))\n",
        "print(\"f(r2) =\", f(r2))"
      ],
      "metadata": {
        "colab": {
          "base_uri": "https://localhost:8080/"
        },
        "id": "FGqcO4Mt8CXZ",
        "outputId": "4cb0aafd-b65f-49b1-9293-f01ad58b2759"
      },
      "execution_count": 35,
      "outputs": [
        {
          "output_type": "stream",
          "name": "stdout",
          "text": [
            "r1 = -1.625\n",
            "r2 = 1.626953125\n",
            "f(r1) = -0.027099609375\n",
            "f(r2) = 0.006484437748440541\n"
          ]
        }
      ]
    },
    {
      "cell_type": "markdown",
      "source": [
        "**19.4 Newton-Raphson Method**"
      ],
      "metadata": {
        "id": "4V9oQyPPOdSO"
      }
    },
    {
      "cell_type": "code",
      "source": [
        "#This uses the ame function used in the previous block of code in order to confirm the roots using a specific starting point.\n",
        "\n",
        "#import packages\n",
        "import numpy as np\n",
        "\n",
        "#lambda function\n",
        "f = lambda x: x**4 - 7\n",
        "f_prime = lambda x: 2*x\n",
        "newton_raphson = 1.6265 - (f(1.6265))/(f_prime(1.6265)) #the more specific x0 leads to a more accurate result\n",
        "\n",
        "print(\"newton_raphson =\", newton_raphson)\n",
        "print(\"7thsqrt(4) =\", 7**(1/4), '\\n')\n"
      ],
      "metadata": {
        "colab": {
          "base_uri": "https://localhost:8080/"
        },
        "id": "2WrKRbu19FJP",
        "outputId": "4d1fca54-ac92-4b05-e4cf-ffdaf5fc14ad"
      },
      "execution_count": 3,
      "outputs": [
        {
          "output_type": "stream",
          "name": "stdout",
          "text": [
            "newton_raphson = 1.626905116890543\n",
            "7thsqrt(4) = 1.6265765616977856 \n",
            "\n"
          ]
        }
      ]
    },
    {
      "cell_type": "code",
      "source": [
        "#This function completes the try it question in the textbook finding one of the roots of x^3-100x^2-2x+100. \n",
        "\n",
        "x0 = 0 #Starting point\n",
        "x1 = x0-(x0**3-100*x0**2-x0+100)/(3*x0**2-200*x0-1) #function using the equation in the textbook\n",
        "print(\"x1 =\", x1) #print"
      ],
      "metadata": {
        "colab": {
          "base_uri": "https://localhost:8080/"
        },
        "id": "q_mVWJr8G1nO",
        "outputId": "188bce99-1c42-41ce-d52f-c94a099aecca"
      },
      "execution_count": 9,
      "outputs": [
        {
          "output_type": "stream",
          "name": "stdout",
          "text": [
            "x1 = 100.0\n"
          ]
        }
      ]
    },
    {
      "cell_type": "markdown",
      "source": [
        "**19.5 Root Finding in Python**"
      ],
      "metadata": {
        "id": "yqp4P4sbOkDk"
      }
    },
    {
      "cell_type": "code",
      "source": [
        "#This uses the given function x^3+2x^2-2x+5 and uses the fsolve function to find the correct roots.\n",
        "\n",
        "#import packages\n",
        "from scipy.optimize import fsolve\n",
        "\n",
        "#lambda function\n",
        "f = lambda x: x**3+3*x**2-2*x-5\n",
        "\n",
        "#important to get correct starting points so errors do not appear\n",
        "fsolve(f, [-1, 1])"
      ],
      "metadata": {
        "colab": {
          "base_uri": "https://localhost:8080/"
        },
        "id": "XU49GhbZ9S-I",
        "outputId": "be407069-2218-41c2-a40e-d6e9e6ec29d9"
      },
      "execution_count": 34,
      "outputs": [
        {
          "output_type": "execute_result",
          "data": {
            "text/plain": [
              "array([-1.20163968,  1.33005874])"
            ]
          },
          "metadata": {},
          "execution_count": 34
        }
      ]
    }
  ]
}