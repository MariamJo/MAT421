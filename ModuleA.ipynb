{
  "nbformat": 4,
  "nbformat_minor": 0,
  "metadata": {
    "colab": {
      "name": "ModuleA.ipynb",
      "provenance": []
    },
    "kernelspec": {
      "name": "python3",
      "display_name": "Python 3"
    },
    "language_info": {
      "name": "python"
    }
  },
  "cells": [
    {
      "cell_type": "markdown",
      "source": [
        "**9.1 Base-N and Binary**"
      ],
      "metadata": {
        "id": "aJ4q2Uckng1t"
      }
    },
    {
      "cell_type": "code",
      "source": [
        "#This takes a binary input and converts it to it's decimal form.\n",
        "#Example input: 100101\n",
        "#Example output: 37\n",
        "\n",
        "#The following prompts the user input for a binary value.\n",
        "b = input()\n",
        "\n",
        "#Definition of binary to decimal function\n",
        "def my_bin_2_dec(b):\n",
        "  num = 0\n",
        "#For loop in order to convert the value\n",
        "  for i in b:\n",
        "    num = num*2 + int(i) \n",
        "#Prints the output\n",
        "  print(\"Value: \", num)\n",
        "#Calls the function\n",
        "my_bin_2_dec(b)"
      ],
      "metadata": {
        "colab": {
          "base_uri": "https://localhost:8080/"
        },
        "id": "R0Sl8QSHppzX",
        "outputId": "782d7b2e-8e13-4b3a-f10c-4ecba42b6a0f"
      },
      "execution_count": 33,
      "outputs": [
        {
          "output_type": "stream",
          "name": "stdout",
          "text": [
            "100101\n",
            "Value:  37\n"
          ]
        }
      ]
    },
    {
      "cell_type": "code",
      "source": [
        "#This is the same code as above which takes a binary input and converts it to it's decimal form.\n",
        "#However instead of allowing for a user input, I have declared a set example which should return a value of 37.\n",
        "\n",
        "#Declared binary string\n",
        "b = str(100101)\n",
        "\n",
        "#Defines the function\n",
        "def my_bin_2_dec(b):\n",
        "  num = 0\n",
        "#For loop in order to convert the value\n",
        "  for i in b:\n",
        "    num = num*2 + int(i) \n",
        "#Prints the output\n",
        "  print(\"Value: \", num)\n",
        "#Calls the function\n",
        "my_bin_2_dec(b)"
      ],
      "metadata": {
        "colab": {
          "base_uri": "https://localhost:8080/"
        },
        "id": "Lvp2ZUG_qxSz",
        "outputId": "07c6de3c-3493-42ac-de1b-2638261105b7"
      },
      "execution_count": 38,
      "outputs": [
        {
          "output_type": "stream",
          "name": "stdout",
          "text": [
            "Value:  37\n"
          ]
        }
      ]
    },
    {
      "cell_type": "code",
      "source": [
        "#This converts a regular number into its binary format.\n",
        "#Example input: 23\n",
        "#Example output: 10111\n",
        "\n",
        "#The following prompts for a user input.\n",
        "d = input()\n",
        "\n",
        "#Defines the function\n",
        "def my_dec_2_bin(d):\n",
        "  #If the given value is greater than 1\n",
        "  if d > 1:\n",
        "    #The function completes a floor division returning an integer value.\n",
        "    my_dec_2_bin(d // 2)\n",
        "    #Finally it prints the formatted value.\n",
        "  print(d % 2, end = '')\n",
        "  #Calls the function\n",
        "my_dec_2_bin(int(d))"
      ],
      "metadata": {
        "colab": {
          "base_uri": "https://localhost:8080/"
        },
        "id": "njGlC024ugBz",
        "outputId": "a92f9e23-41f5-480a-bef3-017562b4b64d"
      },
      "execution_count": 48,
      "outputs": [
        {
          "output_type": "stream",
          "name": "stdout",
          "text": [
            "23\n",
            "10111"
          ]
        }
      ]
    },
    {
      "cell_type": "code",
      "source": [
        "#This is the same code as above which turns a regular number into its binary format.\n",
        "#However instead of allowing for a user input, I have declared a set example which should return a value of 10111.\n",
        "\n",
        "#Declared number\n",
        "d = 23\n",
        "\n",
        "#Defines the function\n",
        "def my_dec_2_bin(d):\n",
        "  #If the given value is greater than 1\n",
        "  if d > 1:\n",
        "    #The function completes a floor division returning an integer value.\n",
        "    my_dec_2_bin(d // 2)\n",
        "    #Finally it prints the formatted value.\n",
        "  print(d % 2, end = '')\n",
        "  #Calls the function\n",
        "my_dec_2_bin(int(d))"
      ],
      "metadata": {
        "colab": {
          "base_uri": "https://localhost:8080/"
        },
        "id": "4vm36fs7u-dd",
        "outputId": "293b7f0b-3c3a-41be-dbf7-4b1b5972b369"
      },
      "execution_count": 49,
      "outputs": [
        {
          "output_type": "stream",
          "name": "stdout",
          "text": [
            "10111"
          ]
        }
      ]
    },
    {
      "cell_type": "markdown",
      "source": [
        "**9.2 Floating Point Numbers**"
      ],
      "metadata": {
        "id": "K81TW-Etn3Q8"
      }
    },
    {
      "cell_type": "code",
      "source": [
        "#This converts a 64-bit IEEE754 number into a decimal representation\n",
        "\n",
        "#Defines the function\n",
        "def my_ieee_2_dec(string):\n",
        "  val = -1\n",
        "  num = 0\n",
        "#Creates a for loop to iterate through the given string\n",
        "  for i in string:\n",
        "    #Adds the converted string values to the iterations as well\n",
        "    num += (int(i)*pow(2,val))\n",
        "    #Iterates through properly\n",
        "    val -= 1\n",
        "  return (num +1)\n",
        "\n",
        "#This was added in order to allow the function to run properly\n",
        "if __name__ == \"__main__\":\n",
        "\n",
        "#Takes user input\n",
        "#Example input: 1|10000000100|1000000000000000000000000000000000000000000000000000\n",
        "#Example output: Value: -48.0\n",
        "  ieee2 = input()\n",
        "  #This determines that the first character represents the sign of the value\n",
        "  sign = int(ieee2[0])\n",
        "  #This accounts for characters 2 through 13 for the next conversion of bits\n",
        "  bias = int(ieee2[2 : 13], 2)\n",
        "  #This accounts for the normalization of the value as stated in the textbook\n",
        "  norm = bias-1023\n",
        "  #Finally the string accounts for the rest of the characters inputted\n",
        "  string = ieee2[14 : ]\n",
        "  #Converts the value\n",
        "  num = my_ieee_2_dec(string)\n",
        "  #Pieces all of the bits together in order to create the appropriate output\n",
        "  num = pow(-1, sign)*num*pow(2, norm)\n",
        "  #prints the value\n",
        "  print(\"Value: \", num)"
      ],
      "metadata": {
        "colab": {
          "base_uri": "https://localhost:8080/"
        },
        "id": "WjmBwdBqTMgm",
        "outputId": "f20d4407-746a-4bd6-baaa-b062db7edaa4"
      },
      "execution_count": 54,
      "outputs": [
        {
          "output_type": "stream",
          "name": "stdout",
          "text": [
            "1|10000000100|1000000000000000000000000000000000000000000000000000\n",
            "Value:  -48.0\n"
          ]
        }
      ]
    },
    {
      "cell_type": "code",
      "source": [
        "#This is the same code as above. However instead of a user input I have set a designated example input.\n",
        "\n",
        "#Defines the function\n",
        "def my_ieee_2_dec(string):\n",
        "  val = -1\n",
        "  num = 0\n",
        "#Creates a for loop to iterate through the given string\n",
        "  for i in string:\n",
        "    #Adds the converted string values to the iterations as well\n",
        "    num += (int(i)*pow(2,val))\n",
        "    #Iterates through properly\n",
        "    val -= 1\n",
        "  return (num +1)\n",
        "\n",
        "#This was added in order to allow the function to run properly\n",
        "if __name__ == \"__main__\":\n",
        "\n",
        "#Example value\n",
        "  ieee2 = \"1|10000000100|1000000000000000000000000000000000000000000000000000\"\n",
        "  #This determines that the first character represents the sign of the value\n",
        "  sign = int(ieee2[0])\n",
        "  #This accounts for characters 2 through 13 for the next conversion of bits\n",
        "  bias = int(ieee2[2 : 13], 2)\n",
        "  #This accounts for the normalization of the value as stated in the textbook\n",
        "  norm = bias-1023\n",
        "  #Finally the string accounts for the rest of the characters inputted\n",
        "  string = ieee2[14 : ]\n",
        "  #Converts the value\n",
        "  num = my_ieee_2_dec(string)\n",
        "  #Pieces all of the bits together in order to create the appropriate output\n",
        "  num = pow(-1, sign)*num*pow(2, norm)\n",
        "  #prints the value\n",
        "  print(\"Value: \", num)"
      ],
      "metadata": {
        "colab": {
          "base_uri": "https://localhost:8080/"
        },
        "id": "_0izPp8w0tg9",
        "outputId": "a45c178e-497a-4e91-ed31-e906b1d9802a"
      },
      "execution_count": 60,
      "outputs": [
        {
          "output_type": "stream",
          "name": "stdout",
          "text": [
            "Value:  -48.0\n"
          ]
        }
      ]
    },
    {
      "cell_type": "code",
      "source": [
        "#This demonstrates the gap of a given number as seen in the textbook\n",
        "import numpy as np\n",
        "np.spacing(3e10)"
      ],
      "metadata": {
        "colab": {
          "base_uri": "https://localhost:8080/"
        },
        "id": "_Vw13FXUkR3H",
        "outputId": "c8f39467-4f3e-412f-a330-722b61cc7b42"
      },
      "execution_count": 61,
      "outputs": [
        {
          "output_type": "execute_result",
          "data": {
            "text/plain": [
              "3.814697265625e-06"
            ]
          },
          "metadata": {},
          "execution_count": 61
        }
      ]
    },
    {
      "cell_type": "code",
      "source": [
        "#This shows that the values are eqivalent even when adding less than half the gap\n",
        "3e10 == (3e10 + np.spacing(3e10)/4)"
      ],
      "metadata": {
        "colab": {
          "base_uri": "https://localhost:8080/"
        },
        "id": "BBoX1jB71MDJ",
        "outputId": "a2ffeab7-85c7-49a6-a2af-65159e82a070"
      },
      "execution_count": null,
      "outputs": [
        {
          "output_type": "execute_result",
          "data": {
            "text/plain": [
              "True"
            ]
          },
          "metadata": {},
          "execution_count": 176
        }
      ]
    },
    {
      "cell_type": "markdown",
      "source": [
        "**9.3 Round-Off Errors**"
      ],
      "metadata": {
        "id": "QedcuK2Vn-4H"
      }
    },
    {
      "cell_type": "code",
      "source": [
        "#This demonstrates that the subtraction value is not exact due to round-off errors\n",
        "5.5-5.495 == 0.005"
      ],
      "metadata": {
        "colab": {
          "base_uri": "https://localhost:8080/"
        },
        "id": "cehiUGhw3d0r",
        "outputId": "931db6a3-40b7-4124-d267-18d653e7a334"
      },
      "execution_count": null,
      "outputs": [
        {
          "output_type": "execute_result",
          "data": {
            "text/plain": [
              "False"
            ]
          },
          "metadata": {},
          "execution_count": 177
        }
      ]
    },
    {
      "cell_type": "code",
      "source": [
        "#This is what the value produced is\n",
        "5.5-5.495"
      ],
      "metadata": {
        "colab": {
          "base_uri": "https://localhost:8080/"
        },
        "id": "5gyE2-iO4JQA",
        "outputId": "f2e2d427-4c87-453c-ed85-f6042e1bb4cc"
      },
      "execution_count": null,
      "outputs": [
        {
          "output_type": "execute_result",
          "data": {
            "text/plain": [
              "0.004999999999999893"
            ]
          },
          "metadata": {},
          "execution_count": 178
        }
      ]
    },
    {
      "cell_type": "code",
      "source": [
        "#However, if we use the round function provided we can see that they are equivalent\n",
        "round(5.5-5.495, 4) == 0.005"
      ],
      "metadata": {
        "colab": {
          "base_uri": "https://localhost:8080/"
        },
        "id": "N44hlEwJ4Ovw",
        "outputId": "2c6d7181-5c77-410a-aae3-f0a344233619"
      },
      "execution_count": null,
      "outputs": [
        {
          "output_type": "execute_result",
          "data": {
            "text/plain": [
              "True"
            ]
          },
          "metadata": {},
          "execution_count": 179
        }
      ]
    },
    {
      "cell_type": "code",
      "source": [
        "#This is a slightly modified version of what we had provided and again demonstrates that adding and subtracticting a small value from 5 one time \n",
        "#does not cause an error in the calculation, yet after doing it more and more times we can see the deviation in the values.\n",
        "\n",
        "#Defines the function starting at a value of 5\n",
        "def add_and_subtract(iter):\n",
        "    value = 5\n",
        "    \n",
        "    #loop to add 1/7 through each iteration\n",
        "    for i in range(iter):\n",
        "        value += 1/7\n",
        "  #loop to subtract 1/7 through each iteration\n",
        "    for i in range(iter):\n",
        "        value -= 1/7\n",
        "\n",
        "    return value\n",
        "    #prints the values after 1, 100, and 1000 iterations\n",
        "print(add_and_subtract(1),add_and_subtract(100), add_and_subtract(1000))"
      ],
      "metadata": {
        "colab": {
          "base_uri": "https://localhost:8080/"
        },
        "id": "7T4oYJc847hN",
        "outputId": "222eca1b-4a3e-4649-924e-96f5e22599ec"
      },
      "execution_count": null,
      "outputs": [
        {
          "output_type": "stream",
          "name": "stdout",
          "text": [
            "5.0 4.999999999999999 4.999999999999996\n"
          ]
        }
      ]
    },
    {
      "cell_type": "code",
      "source": [
        "#This takes the Decimal function from the decimal package provided and shows the round off errors provided from 1.7 and 1.7*5.\n",
        "#Then it shows that after using the round function we are able to see the normalized values.\n",
        "\n",
        "from decimal import *\n",
        "\n",
        "#Prints the floating point rounded value of the number\n",
        "print(Decimal(1.7))\n",
        "print(Decimal(1.7)*5)\n",
        "\n",
        "#Prints the rounded version of the same number\n",
        "print(round(Decimal(1.7), 1))\n",
        "print(round(Decimal(1.7), 1)*5)"
      ],
      "metadata": {
        "colab": {
          "base_uri": "https://localhost:8080/"
        },
        "id": "G0pMw2yC7gfE",
        "outputId": "99cc9c2b-e69e-4161-e2f1-655ccb8c7a85"
      },
      "execution_count": 62,
      "outputs": [
        {
          "output_type": "stream",
          "name": "stdout",
          "text": [
            "1.6999999999999999555910790149937383830547332763671875\n",
            "8.499999999999999777955395075\n",
            "1.7\n",
            "8.5\n"
          ]
        }
      ]
    }
  ]
}