{
  "nbformat": 4,
  "nbformat_minor": 0,
  "metadata": {
    "colab": {
      "name": "ModuleG.ipynb",
      "provenance": []
    },
    "kernelspec": {
      "name": "python3",
      "display_name": "Python 3"
    },
    "language_info": {
      "name": "python"
    }
  },
  "cells": [
    {
      "cell_type": "markdown",
      "source": [
        "**21.1 Numerical Integration Problem Statement**"
      ],
      "metadata": {
        "id": "gwwSvJ9Zi5G3"
      }
    },
    {
      "cell_type": "code",
      "source": [
        "#For this example I am utilizing python to find an estimated integral of cosine without using any special methods as seen below.\n",
        "#Then since the exact result is 2, I am able to produce the error given based on what python displays.\n",
        "\n",
        "#Import Packages\n",
        "import numpy as np \n",
        "import scipy.integrate as integrate\n",
        "\n",
        "\n",
        "#Variable Initialization\n",
        "a = -1*np.pi/2\n",
        "b = np.pi/2\n",
        "x = np.arange(a, b, 0.000001)\n",
        "\n",
        "#Integration Formula\n",
        "f = np.cos(x)\n",
        "h = (b-a)*np.mean(f)\n",
        "error = 2-h\n",
        "\n",
        "#Print Statements\n",
        "print(\"Integral Estimation: \", h)\n",
        "print(\"Error: \", error)\n",
        "\n",
        "\n"
      ],
      "metadata": {
        "colab": {
          "base_uri": "https://localhost:8080/"
        },
        "id": "tfB9WxVXrEle",
        "outputId": "32fe2cd5-11d5-47df-dbe3-edabdb07a667"
      },
      "execution_count": 6,
      "outputs": [
        {
          "output_type": "stream",
          "name": "stdout",
          "text": [
            "Integral Estimation:  1.999999779632918\n",
            "Error:  2.2036708191564003e-07\n"
          ]
        }
      ]
    },
    {
      "cell_type": "markdown",
      "source": [
        "**21.2 Riemanns Integral**"
      ],
      "metadata": {
        "id": "5wUFhfPYi9xt"
      }
    },
    {
      "cell_type": "code",
      "source": [
        "#For this example I took the provided code and altered it for cosine. Meaning the a and b bounds were altered as well as the function.\n",
        "#We can see that the results are accurate as the error for each attempt was about zero. I also increased the number of subintervals which should show\n",
        "#an increased accuracy.\n",
        "\n",
        "#Import Packages\n",
        "import numpy as np\n",
        "\n",
        "#Variable Initialization\n",
        "a = -1*np.pi/2\n",
        "b = np.pi/2\n",
        "n = 15\n",
        "h = (b - a) / (n - 1)\n",
        "x = np.linspace(a, b, n)\n",
        "f = np.cos(x)\n",
        "\n",
        "#Left Sum\n",
        "I_riemannL = h * sum(f[:n-1])\n",
        "err_riemannL = 2 - I_riemannL\n",
        "\n",
        "#Right Sum\n",
        "I_riemannR = h * sum(f[1::])\n",
        "err_riemannR = 2 - I_riemannR\n",
        "\n",
        "#Midpoint Sum\n",
        "I_mid = h * sum(np.cos((x[:n-1] \\\n",
        "        + x[1:])/2))\n",
        "err_mid = 2 - I_mid\n",
        "\n",
        "#Print Statements\n",
        "print(\"Left Riemann: \", I_riemannL)\n",
        "print(\"Error: \", err_riemannL, \"\\n\")\n",
        "\n",
        "print(\"Right Riemann: \", I_riemannR)\n",
        "print(\"Error: \", err_riemannR, \"\\n\")\n",
        "\n",
        "print(\"Midpoint Rule: \", I_mid)\n",
        "print(\"Error: \", err_mid)"
      ],
      "metadata": {
        "colab": {
          "base_uri": "https://localhost:8080/"
        },
        "id": "LQ9N5UdkjvyE",
        "outputId": "fc185538-0bcb-4a35-a8de-a36bbee0d0b2"
      },
      "execution_count": 11,
      "outputs": [
        {
          "output_type": "stream",
          "name": "stdout",
          "text": [
            "Left Riemann:  1.9916004273550745\n",
            "Error:  0.008399572644925524 \n",
            "\n",
            "Right Riemann:  1.9916004273550745\n",
            "Error:  0.008399572644925524 \n",
            "\n",
            "Midpoint Rule:  2.00420243157628\n",
            "Error:  -0.004202431576279864\n"
          ]
        }
      ]
    },
    {
      "cell_type": "markdown",
      "source": [
        "**21.3 Trapezoid Rule**"
      ],
      "metadata": {
        "id": "J5nCSPCDjBAF"
      }
    },
    {
      "cell_type": "code",
      "source": [
        "#Same as above I took the provided code and altered it for cosine. Meaning the a and b bounds were altered as well as the function.\n",
        "#We can see that the results are accurate as the error was about zero. I also increased the number of subintervals which should show\n",
        "#an increased accuracy.\n",
        "\n",
        "#Import Packages\n",
        "import numpy as np\n",
        "\n",
        "#Variable Initialization\n",
        "a = -1*np.pi/2\n",
        "b = np.pi/2\n",
        "n = 15\n",
        "h = (b - a) / (n - 1)\n",
        "x = np.linspace(a, b, n)\n",
        "f = np.cos(x)\n",
        "\n",
        "#Trapezoid Rule\n",
        "I_trap = (h/2)*(f[0] + \\\n",
        "          2 * sum(f[1:n-1]) + f[n-1])\n",
        "err_trap = 2 - I_trap\n",
        "\n",
        "#Print Statements\n",
        "print(\"Trapezoid Rule: \", I_trap)\n",
        "print(\"Error: \", err_trap)"
      ],
      "metadata": {
        "colab": {
          "base_uri": "https://localhost:8080/"
        },
        "id": "u8SEa9SplVg1",
        "outputId": "b8f9bac1-f40d-4b9f-a0e1-6ebe14032cc8"
      },
      "execution_count": 10,
      "outputs": [
        {
          "output_type": "stream",
          "name": "stdout",
          "text": [
            "Trapezoid Rule:  1.9916004273550745\n",
            "Error:  0.008399572644925524\n"
          ]
        }
      ]
    }
  ]
}