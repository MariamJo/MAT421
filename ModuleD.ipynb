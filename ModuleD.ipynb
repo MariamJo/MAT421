{
  "nbformat": 4,
  "nbformat_minor": 0,
  "metadata": {
    "colab": {
      "name": "ModuleD.ipynb",
      "provenance": []
    },
    "kernelspec": {
      "name": "python3",
      "display_name": "Python 3"
    },
    "language_info": {
      "name": "python"
    }
  },
  "cells": [
    {
      "cell_type": "markdown",
      "source": [
        "**1.1**"
      ],
      "metadata": {
        "id": "0rlHE8sNARy9"
      }
    },
    {
      "cell_type": "code",
      "execution_count": 34,
      "metadata": {
        "colab": {
          "base_uri": "https://localhost:8080/"
        },
        "id": "bEfRJhA87vrq",
        "outputId": "500c1633-3522-4a33-cc74-b796ddc542ec"
      },
      "outputs": [
        {
          "output_type": "stream",
          "name": "stdout",
          "text": [
            "Determinant for Array:  -2\n",
            "Cross Product of Both Vectors:  [-3  6 -3]\n",
            "Dot Produt of Both Vectors:  32\n"
          ]
        }
      ],
      "source": [
        "#For the 1.1 example I am showing simple linear algebra tools that correlate with python packages.\n",
        "\n",
        "#Package import\n",
        "import numpy as np\n",
        "from numpy.linalg import det\n",
        "\n",
        "#Array example\n",
        "array = ([[1,2],[3,4]])\n",
        "\n",
        "#Vector examples\n",
        "vector1 = ([1,2,3])\n",
        "vector2 = ([4,5,6])\n",
        "\n",
        "#Function to determine the determinate of the array\n",
        "deter = det(array)\n",
        "\n",
        "#Functions to compute the cross and dot products of the vectors\n",
        "c = np.cross(vector1,vector2)\n",
        "d = np.dot(vector1,vector2)\n",
        "\n",
        "#Prints the results \n",
        "print('Determinant for Array: ', round(deter)) #It was necessary to round this value \n",
        "print('Cross Product of Both Vectors: ', c)\n",
        "print('Dot Produt of Both Vectors: ', d)\n"
      ]
    },
    {
      "cell_type": "markdown",
      "source": [
        "**1.2**"
      ],
      "metadata": {
        "id": "IdBFfCWLAeRn"
      }
    },
    {
      "cell_type": "code",
      "source": [
        "#For the 1.2 example I am demonstrating the way to find the eigenvector and eigenvalues discussed in the chapter, as well as the norm product.\n",
        "\n",
        "#Import packages\n",
        "import numpy as np\n",
        "from numpy.linalg import eig\n",
        "from numpy.linalg import norm\n",
        "\n",
        "#Array example\n",
        "array = ([[1,2],[3,4]])\n",
        "\n",
        "#Function to find the eigenvalues and eigenvectors\n",
        "val, vec = eig(array)\n",
        "\n",
        "#Function to find the norm of the array\n",
        "n = norm(array)\n",
        "\n",
        "#Prints the results\n",
        "print('Eigenvalue for Array: ', val)\n",
        "print('Eigenvector for Array: ', vec)\n",
        "print('Norm for Array: ', n)\n"
      ],
      "metadata": {
        "colab": {
          "base_uri": "https://localhost:8080/"
        },
        "id": "l7qStjfNWitW",
        "outputId": "d6ff0b86-53ee-4b50-d66e-29a3e2f62fdb"
      },
      "execution_count": 35,
      "outputs": [
        {
          "output_type": "stream",
          "name": "stdout",
          "text": [
            "Eigenvalue for Array:  [-0.37228132  5.37228132]\n",
            "Eigenvector for Array:  [[-0.82456484 -0.41597356]\n",
            " [ 0.56576746 -0.90937671]]\n",
            "Norm for Array:  5.477225575051661\n"
          ]
        }
      ]
    },
    {
      "cell_type": "markdown",
      "source": [
        "**1.3**"
      ],
      "metadata": {
        "id": "o5Tpok46AioO"
      }
    },
    {
      "cell_type": "code",
      "source": [
        "#For the 1.3 example I am computing the qr factorization as mentioned in the chapter. However, the results seem to have negatives on different values\n",
        "#then when computing the qr in a different way.\n",
        "\n",
        "#Import packages\n",
        "import numpy as np\n",
        "from numpy.linalg import qr\n",
        "\n",
        "#Array example\n",
        "array = ([[1,2],\n",
        "          [3,4]])\n",
        "\n",
        "#Function to compute the qr factorization\n",
        "q,r = qr(array)\n",
        "\n",
        "#Prints results (may have some error)\n",
        "print('Q for Array: ', q)\n",
        "print('R for Array: ', r)\n",
        "\n"
      ],
      "metadata": {
        "colab": {
          "base_uri": "https://localhost:8080/"
        },
        "id": "q8L2-uXN791W",
        "outputId": "acb527a7-3a60-463c-baff-f9b2a922ada6"
      },
      "execution_count": 37,
      "outputs": [
        {
          "output_type": "stream",
          "name": "stdout",
          "text": [
            "Q for Array:  [[-0.31622777 -0.9486833 ]\n",
            " [-0.9486833   0.31622777]]\n",
            "R for Array:  [[-3.16227766 -4.42718872]\n",
            " [ 0.         -0.63245553]]\n"
          ]
        }
      ]
    },
    {
      "cell_type": "code",
      "source": [
        "#The code below is directly taken from the textbook (except the comments I made) and represents a least squares regression type of problem. \n",
        "#I was using this example to visualize what that would look like\n",
        "\n",
        "#Import packages\n",
        "import numpy as np\n",
        "from scipy import optimize\n",
        "import matplotlib.pyplot as plt\n",
        "\n",
        "plt.style.use('seaborn-poster')\n",
        "\n",
        "#Determine x and y\n",
        "x = np.linspace(0, 1, 101)\n",
        "y = 1 + x + x * np.random.random(len(x))\n",
        "\n",
        "#Gets the Array\n",
        "A = np.vstack([x, np.ones(len(x))]).T\n",
        "y = y[:, np.newaxis]\n",
        "\n",
        "#Function in order to compute\n",
        "alpha = np.dot((np.dot(np.linalg.inv(np.dot(A.T,A)),A.T)),y)\n",
        "print(alpha)\n",
        "\n",
        "#Graphs everything\n",
        "plt.figure(figsize = (10,8))\n",
        "plt.plot(x, y, 'b.')\n",
        "plt.plot(x, alpha[0]*x + alpha[1], 'r')\n",
        "plt.xlabel('x')\n",
        "plt.ylabel('y')\n",
        "plt.show()"
      ],
      "metadata": {
        "colab": {
          "base_uri": "https://localhost:8080/",
          "height": 552
        },
        "id": "XVZdtqfS5rz9",
        "outputId": "c0349f4a-21a6-4e1d-82d7-e25e239b2baf"
      },
      "execution_count": 38,
      "outputs": [
        {
          "output_type": "stream",
          "name": "stdout",
          "text": [
            "[[1.52875426]\n",
            " [1.00016412]]\n"
          ]
        },
        {
          "output_type": "display_data",
          "data": {
            "image/png": "[encoded data removed]",
            "text/plain": [
              "<Figure size 720x576 with 1 Axes>"
            ]
          },
          "metadata": {
            "needs_background": "light"
          }
        }
      ]
    }
  ]
}